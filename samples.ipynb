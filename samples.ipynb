{
 "cells": [
  {
   "cell_type": "code",
   "execution_count": null,
   "id": "3a737ffc-045e-455d-a4c7-a177dcdc02a1",
   "metadata": {},
   "outputs": [],
   "source": [
    "from pathlib import Path\n",
    "from radient import (\n",
    "    audio_vectorizer,\n",
    "    graph_vectorizer,\n",
    "    image_vectorizer,\n",
    "    molecule_vectorizer,\n",
    "    text_vectorizer\n",
    ")\n",
    "\n",
    "import networkx as nx"
   ]
  },
  {
   "cell_type": "code",
   "execution_count": null,
   "id": "13c7147b-bcf2-42db-bf16-a7335dc06410",
   "metadata": {},
   "outputs": [],
   "source": [
    "audio_vectorizer().vectorize([str(Path.home() / \"audio.wav\")])"
   ]
  },
  {
   "cell_type": "code",
   "execution_count": null,
   "id": "2e5c13a7-f3f3-402c-a8ea-b037ff6e04df",
   "metadata": {},
   "outputs": [],
   "source": [
    "graph_vectorizer().vectorize([nx.karate_club_graph()])"
   ]
  },
  {
   "cell_type": "code",
   "execution_count": null,
   "id": "49511966-8fdf-431f-9d68-60d33a4d8854",
   "metadata": {},
   "outputs": [],
   "source": [
    "image_vectorizer().vectorize([str(Path.home() / \"image.jpg\")])"
   ]
  },
  {
   "cell_type": "code",
   "execution_count": null,
   "id": "d4f0e308-4e2a-4bc3-9a4c-223ffa875a60",
   "metadata": {},
   "outputs": [],
   "source": [
    "molecule_vectorizer().vectorize([\"O=C=O\"])"
   ]
  },
  {
   "cell_type": "code",
   "execution_count": null,
   "id": "ccf09d58-b1a2-4c6e-974b-73a42d6a49a3",
   "metadata": {},
   "outputs": [],
   "source": [
    "text_vectorizer().vectorize([\"Hello, world!\"])"
   ]
  }
 ],
 "metadata": {
  "kernelspec": {
   "display_name": "Python 3 (ipykernel)",
   "language": "python",
   "name": "python3"
  },
  "language_info": {
   "codemirror_mode": {
    "name": "ipython",
    "version": 3
   },
   "file_extension": ".py",
   "mimetype": "text/x-python",
   "name": "python",
   "nbconvert_exporter": "python",
   "pygments_lexer": "ipython3",
   "version": "3.9.6"
  }
 },
 "nbformat": 4,
 "nbformat_minor": 5
}
